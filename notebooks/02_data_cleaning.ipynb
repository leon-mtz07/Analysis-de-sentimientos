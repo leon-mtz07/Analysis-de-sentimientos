{
 "cells": [
  {
   "metadata": {},
   "cell_type": "markdown",
   "source": [
    "# Data Cleaning\n",
    "\n",
    "**Objetivo:** Limpiar los comentarios para tenerlos limpios para analizarlos"
   ],
   "id": "a6137878d047b13b"
  },
  {
   "metadata": {},
   "cell_type": "markdown",
   "source": "## 1. Importar librerías",
   "id": "3a5d9e82dc40698"
  },
  {
   "cell_type": "code",
   "id": "initial_id",
   "metadata": {
    "collapsed": true,
    "ExecuteTime": {
     "end_time": "2025-06-04T21:29:53.388651Z",
     "start_time": "2025-06-04T21:29:52.438071Z"
    }
   },
   "source": [
    "import pandas as pd\n",
    "import re\n",
    "import nltk"
   ],
   "outputs": [],
   "execution_count": 7
  },
  {
   "metadata": {},
   "cell_type": "markdown",
   "source": "## 2. Leer el DataFrame",
   "id": "89407b1b1a13c87e"
  },
  {
   "metadata": {
    "ExecuteTime": {
     "end_time": "2025-06-04T21:18:11.646876Z",
     "start_time": "2025-06-04T21:18:11.600868Z"
    }
   },
   "cell_type": "code",
   "source": [
    "comments_df = pd.read_csv('../data/raw/comentarios.csv')\n",
    "comments_df"
   ],
   "id": "e0e9e8bd0f322df1",
   "outputs": [
    {
     "data": {
      "text/plain": [
       "                                           Comentarios\n",
       "0    Publik coffee es de esos lugares que desde que...\n",
       "1    No publico la comida  ni el servicio, porque s...\n",
       "2                                        Great Cortado\n",
       "3                                                 Rico\n",
       "4    Una de mis cafeterías favoritas en Salt Lake. ...\n",
       "..                                                 ...\n",
       "746            No sabía que hacían tazas tan pequeñas.\n",
       "747        Ambiente fresco con una buena taza de café.\n",
       "748            Muy moderno: ¡excelente granola casera!\n",
       "749  Ambiente muy moderno con pequeños pasteles fre...\n",
       "750  Realmente excelente tostada de moca blanca y a...\n",
       "\n",
       "[751 rows x 1 columns]"
      ],
      "text/html": [
       "<div>\n",
       "<style scoped>\n",
       "    .dataframe tbody tr th:only-of-type {\n",
       "        vertical-align: middle;\n",
       "    }\n",
       "\n",
       "    .dataframe tbody tr th {\n",
       "        vertical-align: top;\n",
       "    }\n",
       "\n",
       "    .dataframe thead th {\n",
       "        text-align: right;\n",
       "    }\n",
       "</style>\n",
       "<table border=\"1\" class=\"dataframe\">\n",
       "  <thead>\n",
       "    <tr style=\"text-align: right;\">\n",
       "      <th></th>\n",
       "      <th>Comentarios</th>\n",
       "    </tr>\n",
       "  </thead>\n",
       "  <tbody>\n",
       "    <tr>\n",
       "      <th>0</th>\n",
       "      <td>Publik coffee es de esos lugares que desde que...</td>\n",
       "    </tr>\n",
       "    <tr>\n",
       "      <th>1</th>\n",
       "      <td>No publico la comida  ni el servicio, porque s...</td>\n",
       "    </tr>\n",
       "    <tr>\n",
       "      <th>2</th>\n",
       "      <td>Great Cortado</td>\n",
       "    </tr>\n",
       "    <tr>\n",
       "      <th>3</th>\n",
       "      <td>Rico</td>\n",
       "    </tr>\n",
       "    <tr>\n",
       "      <th>4</th>\n",
       "      <td>Una de mis cafeterías favoritas en Salt Lake. ...</td>\n",
       "    </tr>\n",
       "    <tr>\n",
       "      <th>...</th>\n",
       "      <td>...</td>\n",
       "    </tr>\n",
       "    <tr>\n",
       "      <th>746</th>\n",
       "      <td>No sabía que hacían tazas tan pequeñas.</td>\n",
       "    </tr>\n",
       "    <tr>\n",
       "      <th>747</th>\n",
       "      <td>Ambiente fresco con una buena taza de café.</td>\n",
       "    </tr>\n",
       "    <tr>\n",
       "      <th>748</th>\n",
       "      <td>Muy moderno: ¡excelente granola casera!</td>\n",
       "    </tr>\n",
       "    <tr>\n",
       "      <th>749</th>\n",
       "      <td>Ambiente muy moderno con pequeños pasteles fre...</td>\n",
       "    </tr>\n",
       "    <tr>\n",
       "      <th>750</th>\n",
       "      <td>Realmente excelente tostada de moca blanca y a...</td>\n",
       "    </tr>\n",
       "  </tbody>\n",
       "</table>\n",
       "<p>751 rows × 1 columns</p>\n",
       "</div>"
      ]
     },
     "execution_count": 2,
     "metadata": {},
     "output_type": "execute_result"
    }
   ],
   "execution_count": 2
  },
  {
   "metadata": {},
   "cell_type": "markdown",
   "source": "## 3. Eliminamos signos de puntuación y caracteres especiales",
   "id": "62b58f40abfe5d26"
  },
  {
   "metadata": {},
   "cell_type": "code",
   "outputs": [],
   "execution_count": null,
   "source": "comments_df['Comentarios'] = comments_df['Comentarios'].str.replace(r'[^\\w\\s]', '', regex=True)",
   "id": "ea6ff6fd4c397924"
  },
  {
   "metadata": {},
   "cell_type": "markdown",
   "source": "## 4. Convertimos a minúsculas todas las palabras",
   "id": "ff271d72796f4288"
  },
  {
   "metadata": {
    "ExecuteTime": {
     "end_time": "2025-06-04T21:30:47.587885Z",
     "start_time": "2025-06-04T21:30:47.567718Z"
    }
   },
   "cell_type": "code",
   "source": "comments_df['Comentarios'] = comments_df['Comentarios'].str.lower()",
   "id": "6e19e5d9bc2149e4",
   "outputs": [],
   "execution_count": 8
  },
  {
   "metadata": {},
   "cell_type": "markdown",
   "source": "## 5. Eliminar acentos",
   "id": "fdd4ebe4b4854fcd"
  },
  {
   "metadata": {
    "ExecuteTime": {
     "end_time": "2025-06-04T22:05:26.086736Z",
     "start_time": "2025-06-04T22:05:26.059063Z"
    }
   },
   "cell_type": "code",
   "source": [
    "from unidecode import unidecode\n",
    "\n",
    "comments_df['Comentarios'] = comments_df['Comentarios'].apply(unidecode)"
   ],
   "id": "430dfbba60fff198",
   "outputs": [],
   "execution_count": 16
  },
  {
   "metadata": {},
   "cell_type": "markdown",
   "source": "## 6. Eliminamos stopwords",
   "id": "dd181d9099e51148"
  },
  {
   "metadata": {
    "ExecuteTime": {
     "end_time": "2025-06-04T22:05:26.108231Z",
     "start_time": "2025-06-04T22:05:26.103439Z"
    }
   },
   "cell_type": "code",
   "source": [
    "# Descargamos las stopwords\n",
    "nltk.download('stopwords')"
   ],
   "id": "4c3b53f960236b4e",
   "outputs": [
    {
     "name": "stderr",
     "output_type": "stream",
     "text": [
      "[nltk_data] Downloading package stopwords to\n",
      "[nltk_data]     /Users/leon_07/nltk_data...\n",
      "[nltk_data]   Package stopwords is already up-to-date!\n"
     ]
    },
    {
     "data": {
      "text/plain": [
       "True"
      ]
     },
     "execution_count": 17,
     "metadata": {},
     "output_type": "execute_result"
    }
   ],
   "execution_count": 17
  },
  {
   "metadata": {
    "ExecuteTime": {
     "end_time": "2025-06-04T22:05:26.130727Z",
     "start_time": "2025-06-04T22:05:26.124971Z"
    }
   },
   "cell_type": "code",
   "source": [
    "from nltk.corpus import stopwords\n",
    "\n",
    "# Stopwords en español\n",
    "stopwords_es = set(stopwords.words('spanish'))\n",
    "\n",
    "# Eliminamos las stopwords\n",
    "def eliminar_stopwords(text):\n",
    "    palabras = text.split()\n",
    "    palabras_limpias = [p for p in palabras if p.lower() not in stopwords_es]\n",
    "    return ' '.join(palabras_limpias)"
   ],
   "id": "f505a94760bf9a63",
   "outputs": [],
   "execution_count": 18
  },
  {
   "metadata": {
    "ExecuteTime": {
     "end_time": "2025-06-04T22:05:26.194512Z",
     "start_time": "2025-06-04T22:05:26.187034Z"
    }
   },
   "cell_type": "code",
   "source": "comments_df['Comentarios'] = comments_df['Comentarios'].apply(eliminar_stopwords)",
   "id": "abc072bea832c77f",
   "outputs": [],
   "execution_count": 19
  },
  {
   "metadata": {
    "ExecuteTime": {
     "end_time": "2025-06-04T22:05:26.232611Z",
     "start_time": "2025-06-04T22:05:26.218413Z"
    }
   },
   "cell_type": "code",
   "source": "comments_df.to_csv('../data/processed/clean_comments.csv', index=False)",
   "id": "c120bfe324a56994",
   "outputs": [],
   "execution_count": 20
  }
 ],
 "metadata": {
  "kernelspec": {
   "display_name": "Python 3",
   "language": "python",
   "name": "python3"
  },
  "language_info": {
   "codemirror_mode": {
    "name": "ipython",
    "version": 2
   },
   "file_extension": ".py",
   "mimetype": "text/x-python",
   "name": "python",
   "nbconvert_exporter": "python",
   "pygments_lexer": "ipython2",
   "version": "2.7.6"
  }
 },
 "nbformat": 4,
 "nbformat_minor": 5
}
