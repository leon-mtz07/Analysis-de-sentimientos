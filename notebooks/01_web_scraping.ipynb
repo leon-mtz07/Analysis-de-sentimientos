{
 "cells": [
  {
   "metadata": {},
   "cell_type": "markdown",
   "source": [
    "# Web Scraping\n",
    "\n",
    "**Objetivo:**\n",
    "Hacer un web scraping para análizar los comentarios de un café local de estados unidos"
   ],
   "id": "5b327c123fe4f393"
  },
  {
   "metadata": {},
   "cell_type": "markdown",
   "source": "## 1. Importamos la librerias",
   "id": "77bfe68b93ef1df0"
  },
  {
   "cell_type": "code",
   "id": "initial_id",
   "metadata": {
    "collapsed": true,
    "ExecuteTime": {
     "end_time": "2025-06-04T20:31:58.283652Z",
     "start_time": "2025-06-04T20:31:58.276829Z"
    }
   },
   "source": [
    "import pandas as pd\n",
    "from selenium import webdriver\n",
    "from selenium.webdriver.common.by import By\n",
    "from selenium.common.exceptions import NoSuchElementException"
   ],
   "outputs": [],
   "execution_count": 2
  },
  {
   "metadata": {},
   "cell_type": "markdown",
   "source": "## 2. Inicializamos el navegador junto con el url",
   "id": "908ebeed4038c850"
  },
  {
   "metadata": {
    "ExecuteTime": {
     "end_time": "2025-06-04T20:38:13.416967Z",
     "start_time": "2025-06-04T20:38:03.973904Z"
    }
   },
   "cell_type": "code",
   "source": [
    "# Inicializamos el navegador\n",
    "web = webdriver.Chrome()"
   ],
   "id": "2df4cf15463482af",
   "outputs": [],
   "execution_count": 3
  },
  {
   "metadata": {
    "ExecuteTime": {
     "end_time": "2025-06-04T20:38:27.282972Z",
     "start_time": "2025-06-04T20:38:27.273026Z"
    }
   },
   "cell_type": "code",
   "source": [
    "# Link del café de google maps\n",
    "url = \"https://www.google.com/maps/place/Publik+Coffee+Roasters/@39.6662712,-112.4308786,8z/data=!4m13!1m3!2m2!1scoffee!6e5!3m8!1s0x8752f5235846dfb5:0xe120c1afda67350b!8m2!3d40.7478557!4d-111.8935214!9m1!1b1!15sCgZjb2ZmZWVaCCIGY29mZmVlkgELY29mZmVlX3Nob3CqAUYKCS9tLzAydnFmbRABKgoiBmNvZmZlZSgAMh8QASIbBU737Hm4ft6hodqExuINT07eu8VxtxwQX3kcMgoQAiIGY29mZmVl4AEA!16s%2Fg%2F1q661krzf?entry=ttu&g_ep=EgoyMDI1MDYwMi4wIKXMDSoASAFQAw%3D%3D\""
   ],
   "id": "271596b965f9cbed",
   "outputs": [],
   "execution_count": 4
  },
  {
   "metadata": {
    "ExecuteTime": {
     "end_time": "2025-06-04T20:38:30.478582Z",
     "start_time": "2025-06-04T20:38:28.753707Z"
    }
   },
   "cell_type": "code",
   "source": [
    "# Le damos el link al objeto\n",
    "web.get(url)"
   ],
   "id": "cc2f678093d53fa4",
   "outputs": [],
   "execution_count": 5
  },
  {
   "metadata": {},
   "cell_type": "markdown",
   "source": "## 3. Extraemos los comentarios",
   "id": "e75818e87c7e3923"
  },
  {
   "metadata": {
    "ExecuteTime": {
     "end_time": "2025-06-04T20:47:42.464086Z",
     "start_time": "2025-06-04T20:47:42.320411Z"
    }
   },
   "cell_type": "code",
   "source": [
    "comments = web.find_elements(by=By.CLASS_NAME, value='wiI7pd')\n",
    "len(comments)"
   ],
   "id": "1a8a28e48c90fe87",
   "outputs": [
    {
     "data": {
      "text/plain": [
       "751"
      ]
     },
     "execution_count": 9,
     "metadata": {},
     "output_type": "execute_result"
    }
   ],
   "execution_count": 9
  },
  {
   "metadata": {
    "ExecuteTime": {
     "end_time": "2025-06-04T20:49:53.622136Z",
     "start_time": "2025-06-04T20:49:53.619081Z"
    }
   },
   "cell_type": "code",
   "source": "data = []",
   "id": "9f89100f937b0c48",
   "outputs": [],
   "execution_count": 12
  },
  {
   "metadata": {
    "ExecuteTime": {
     "end_time": "2025-06-04T20:49:56.296063Z",
     "start_time": "2025-06-04T20:49:54.421674Z"
    }
   },
   "cell_type": "code",
   "source": [
    "for comment in comments:\n",
    "    data.append(comment.get_attribute('innerHTML'))"
   ],
   "id": "825ec33b96af38a0",
   "outputs": [],
   "execution_count": 13
  },
  {
   "metadata": {},
   "cell_type": "markdown",
   "source": "## 4. Convirtiendolo en DataFrame",
   "id": "49dccf46178c49b7"
  },
  {
   "metadata": {
    "ExecuteTime": {
     "end_time": "2025-06-04T20:55:50.801061Z",
     "start_time": "2025-06-04T20:55:50.791771Z"
    }
   },
   "cell_type": "code",
   "source": "comment_df = pd.DataFrame({'Comentarios': data})",
   "id": "e539585402eb6e4f",
   "outputs": [],
   "execution_count": 16
  },
  {
   "metadata": {},
   "cell_type": "markdown",
   "source": "## 5. Exportando los comentarios",
   "id": "1c1380d6dc0273f7"
  },
  {
   "metadata": {
    "ExecuteTime": {
     "end_time": "2025-06-04T20:56:45.592154Z",
     "start_time": "2025-06-04T20:56:45.553104Z"
    }
   },
   "cell_type": "code",
   "source": "comment_df.to_csv('comentarios.csv', index=False)",
   "id": "102b2886f4437121",
   "outputs": [],
   "execution_count": 17
  },
  {
   "metadata": {
    "ExecuteTime": {
     "end_time": "2025-06-04T21:48:24.770628Z",
     "start_time": "2025-06-04T21:48:24.497784Z"
    }
   },
   "cell_type": "code",
   "source": "web.close()",
   "id": "a996fd883b28e545",
   "outputs": [],
   "execution_count": 18
  }
 ],
 "metadata": {
  "kernelspec": {
   "display_name": "Python 3",
   "language": "python",
   "name": "python3"
  },
  "language_info": {
   "codemirror_mode": {
    "name": "ipython",
    "version": 2
   },
   "file_extension": ".py",
   "mimetype": "text/x-python",
   "name": "python",
   "nbconvert_exporter": "python",
   "pygments_lexer": "ipython2",
   "version": "2.7.6"
  }
 },
 "nbformat": 4,
 "nbformat_minor": 5
}
