{
 "cells": [
  {
   "metadata": {},
   "cell_type": "markdown",
   "source": "# Sentiment Analysis",
   "id": "a29d631d969b1e2e"
  },
  {
   "metadata": {
    "ExecuteTime": {
     "end_time": "2025-06-08T12:52:06.004675Z",
     "start_time": "2025-06-08T12:47:03.732143Z"
    }
   },
   "cell_type": "code",
   "source": [
    "import nltk\n",
    "from nltk.sentiment import SentimentIntensityAnalyzer\n",
    "nltk.download('vader_lexicon')"
   ],
   "id": "ae16478a3d4ce867",
   "outputs": [
    {
     "name": "stderr",
     "output_type": "stream",
     "text": [
      "[nltk_data] Downloading package vader_lexicon to\n",
      "[nltk_data]     /Users/leon_07/nltk_data...\n",
      "[nltk_data]   Package vader_lexicon is already up-to-date!\n"
     ]
    },
    {
     "data": {
      "text/plain": [
       "True"
      ]
     },
     "execution_count": 1,
     "metadata": {},
     "output_type": "execute_result"
    }
   ],
   "execution_count": 1
  },
  {
   "metadata": {
    "ExecuteTime": {
     "end_time": "2025-06-08T12:52:06.186274Z",
     "start_time": "2025-06-08T12:52:06.176031Z"
    }
   },
   "cell_type": "code",
   "source": "sia = SentimentIntensityAnalyzer()",
   "id": "622df505c6b14265",
   "outputs": [],
   "execution_count": 2
  },
  {
   "metadata": {
    "ExecuteTime": {
     "end_time": "2025-06-08T12:52:06.209467Z",
     "start_time": "2025-06-08T12:52:06.206584Z"
    }
   },
   "cell_type": "code",
   "source": [
    "def sentimiento_a_escala_vader(texto):\n",
    "    scores = sia.polarity_scores(texto)\n",
    "    compound = scores['compound']\n",
    "\n",
    "    escala_uno_cinco = round(((compound + 1) / 2) * 4 + 1)\n",
    "    return escala_uno_cinco"
   ],
   "id": "e6d8c0cfa0ca264a",
   "outputs": [],
   "execution_count": 3
  },
  {
   "metadata": {
    "ExecuteTime": {
     "end_time": "2025-06-08T12:55:14.409259Z",
     "start_time": "2025-06-08T12:55:14.404116Z"
    }
   },
   "cell_type": "code",
   "source": [
    "texto = \"encanta perfecto\"\n",
    "sentimiento_a_escala_vader(texto)"
   ],
   "id": "de9f278d8413f4e4",
   "outputs": [
    {
     "data": {
      "text/plain": [
       "4"
      ]
     },
     "execution_count": 13,
     "metadata": {},
     "output_type": "execute_result"
    }
   ],
   "execution_count": 13
  },
  {
   "metadata": {},
   "cell_type": "markdown",
   "source": "## Creando columna de rating de los comentarios",
   "id": "552ca57fec31aa8"
  },
  {
   "metadata": {
    "ExecuteTime": {
     "end_time": "2025-06-08T12:53:00.809694Z",
     "start_time": "2025-06-08T12:52:59.591565Z"
    }
   },
   "cell_type": "code",
   "source": "import pandas as pd",
   "id": "613b1a66160124f6",
   "outputs": [],
   "execution_count": 6
  },
  {
   "metadata": {
    "ExecuteTime": {
     "end_time": "2025-06-08T12:53:48.286129Z",
     "start_time": "2025-06-08T12:53:48.263535Z"
    }
   },
   "cell_type": "code",
   "source": "comments_df = pd.read_csv('../data/processed/clean_comments.csv')",
   "id": "50cdf09cfdc4745d",
   "outputs": [],
   "execution_count": 7
  },
  {
   "metadata": {
    "ExecuteTime": {
     "end_time": "2025-06-08T12:54:33.753942Z",
     "start_time": "2025-06-08T12:54:33.677050Z"
    }
   },
   "cell_type": "code",
   "source": "comments_df['rating'] = comments_df['Comentarios'].apply(sentimiento_a_escala_vader)",
   "id": "39e5aeb2272f0ade",
   "outputs": [],
   "execution_count": 8
  },
  {
   "metadata": {
    "ExecuteTime": {
     "end_time": "2025-06-08T12:54:55.188472Z",
     "start_time": "2025-06-08T12:54:55.183280Z"
    }
   },
   "cell_type": "code",
   "source": "comments_df['rating'].value_counts()",
   "id": "dc1ea66a63ae6571",
   "outputs": [
    {
     "data": {
      "text/plain": [
       "rating\n",
       "3    610\n",
       "4    124\n",
       "2      9\n",
       "5      8\n",
       "Name: count, dtype: int64"
      ]
     },
     "execution_count": 11,
     "metadata": {},
     "output_type": "execute_result"
    }
   ],
   "execution_count": 11
  },
  {
   "metadata": {},
   "cell_type": "markdown",
   "source": "## Exportando el nuevo archivo csv",
   "id": "7a59d83ce6c19da9"
  },
  {
   "metadata": {
    "ExecuteTime": {
     "end_time": "2025-06-08T12:56:47.812014Z",
     "start_time": "2025-06-08T12:56:47.795487Z"
    }
   },
   "cell_type": "code",
   "source": "comments_df.to_csv('../data/processed/clean_comments_2.csv')",
   "id": "b2c3332bb1141916",
   "outputs": [],
   "execution_count": 14
  }
 ],
 "metadata": {
  "kernelspec": {
   "display_name": "Python 3",
   "language": "python",
   "name": "python3"
  },
  "language_info": {
   "codemirror_mode": {
    "name": "ipython",
    "version": 2
   },
   "file_extension": ".py",
   "mimetype": "text/x-python",
   "name": "python",
   "nbconvert_exporter": "python",
   "pygments_lexer": "ipython2",
   "version": "2.7.6"
  }
 },
 "nbformat": 4,
 "nbformat_minor": 5
}
