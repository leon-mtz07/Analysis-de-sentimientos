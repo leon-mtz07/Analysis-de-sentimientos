{
 "cells": [
  {
   "metadata": {},
   "cell_type": "markdown",
   "source": "# Sentiment Analysis",
   "id": "a29d631d969b1e2e"
  },
  {
   "metadata": {
    "ExecuteTime": {
     "end_time": "2025-06-05T00:52:41.166349Z",
     "start_time": "2025-06-04T23:48:16.500699Z"
    }
   },
   "cell_type": "code",
   "source": [
    "import nltk\n",
    "from nltk.sentiment import SentimentIntensityAnalyzer\n",
    "nltk.download('vader_lexicon')"
   ],
   "id": "ae16478a3d4ce867",
   "outputs": [
    {
     "name": "stderr",
     "output_type": "stream",
     "text": [
      "[nltk_data] Downloading package vader_lexicon to\n",
      "[nltk_data]     /Users/leon_07/nltk_data...\n"
     ]
    },
    {
     "data": {
      "text/plain": [
       "True"
      ]
     },
     "execution_count": 4,
     "metadata": {},
     "output_type": "execute_result"
    }
   ],
   "execution_count": 4
  },
  {
   "metadata": {
    "ExecuteTime": {
     "end_time": "2025-06-05T00:53:45.230847Z",
     "start_time": "2025-06-05T00:53:45.199918Z"
    }
   },
   "cell_type": "code",
   "source": "sia = SentimentIntensityAnalyzer()",
   "id": "622df505c6b14265",
   "outputs": [],
   "execution_count": 5
  },
  {
   "metadata": {
    "ExecuteTime": {
     "end_time": "2025-06-05T00:55:10.042648Z",
     "start_time": "2025-06-05T00:55:10.030369Z"
    }
   },
   "cell_type": "code",
   "source": [
    "def sentimiento_a_escala_vader(texto):\n",
    "    scores = sia.polarity_scores(texto)\n",
    "    compound = scores['compound']\n",
    "\n",
    "    escala_uno_cinco = round(((compound + 1) / 2) * 4 + 1)\n",
    "    return escala_uno_cinco"
   ],
   "id": "e6d8c0cfa0ca264a",
   "outputs": [],
   "execution_count": 6
  },
  {
   "metadata": {
    "ExecuteTime": {
     "end_time": "2025-06-05T00:56:55.038670Z",
     "start_time": "2025-06-05T00:56:55.032543Z"
    }
   },
   "cell_type": "code",
   "source": [
    "texto = \"Me encanta, funciona perfecto\"\n",
    "sentimiento_a_escala_vader(texto)"
   ],
   "id": "de9f278d8413f4e4",
   "outputs": [
    {
     "data": {
      "text/plain": [
       "4"
      ]
     },
     "execution_count": 15,
     "metadata": {},
     "output_type": "execute_result"
    }
   ],
   "execution_count": 15
  }
 ],
 "metadata": {
  "kernelspec": {
   "display_name": "Python 3",
   "language": "python",
   "name": "python3"
  },
  "language_info": {
   "codemirror_mode": {
    "name": "ipython",
    "version": 2
   },
   "file_extension": ".py",
   "mimetype": "text/x-python",
   "name": "python",
   "nbconvert_exporter": "python",
   "pygments_lexer": "ipython2",
   "version": "2.7.6"
  }
 },
 "nbformat": 4,
 "nbformat_minor": 5
}
